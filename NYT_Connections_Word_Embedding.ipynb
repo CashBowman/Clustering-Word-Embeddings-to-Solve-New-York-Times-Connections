{
 "cells": [
  {
   "cell_type": "markdown",
   "metadata": {
    "id": "OKWldgWlP4n_"
   },
   "source": [
    "# Let's get the connections"
   ]
  },
  {
   "cell_type": "code",
   "execution_count": 32,
   "metadata": {
    "id": "zRjPlbKBP5T_"
   },
   "outputs": [],
   "source": [
    "import pandas as pd\n",
    "import torch\n",
    "import numpy as np\n",
    "import requests\n",
    "import matplotlib.pyplot as plt"
   ]
  },
  {
   "cell_type": "markdown",
   "metadata": {},
   "source": [
    "Get Data From https://github.com/Eyefyre/NYT-Connections-Answers/tree/main"
   ]
  },
  {
   "cell_type": "code",
   "execution_count": 2,
   "metadata": {},
   "outputs": [
    {
     "name": "stdout",
     "output_type": "stream",
     "text": [
      "      id        date                                            answers\n",
      "0      1  2023-06-12  [{'level': 0, 'group': 'WET WEATHER', 'members...\n",
      "1      2  2023-06-13  [{'level': 0, 'group': 'FOOTWEAR', 'members': ...\n",
      "2      3  2023-06-14  [{'level': 0, 'group': 'FACIAL FEATURES', 'mem...\n",
      "3      4  2023-06-15  [{'level': 0, 'group': 'SNEAKER BRANDS', 'memb...\n",
      "4      5  2023-06-16  [{'level': 0, 'group': 'STREAMING SERVICES', '...\n",
      "..   ...         ...                                                ...\n",
      "432  433  2024-08-17  [{'level': 0, 'group': 'SPOKEN COMMUNICATION',...\n",
      "433  434  2024-08-18  [{'level': 0, 'group': 'ALARM CLOCK BUTTONS', ...\n",
      "434  435  2024-08-19  [{'level': 0, 'group': 'MUSIC GENRES', 'member...\n",
      "435  436  2024-08-20  [{'level': 0, 'group': 'RUSH OF WIND', 'member...\n",
      "436  437  2024-08-21  [{'level': 0, 'group': 'COVER WITH A THICK LAY...\n",
      "\n",
      "[437 rows x 3 columns]\n"
     ]
    }
   ],
   "source": [
    "# Define the URL of the raw JSON file\n",
    "url = 'https://raw.githubusercontent.com/Eyefyre/NYT-Connections-Answers/main/connections.json'\n",
    "\n",
    "# Send a GET request to fetch the raw JSON content\n",
    "response = requests.get(url)\n",
    "\n",
    "# Check if the request was successful\n",
    "if response.status_code == 200:\n",
    "    try:\n",
    "        # Parse the JSON content\n",
    "        json_data = response.json()\n",
    "        \n",
    "        # Convert the JSON data to a Pandas DataFrame\n",
    "        df = pd.DataFrame(json_data)\n",
    "        \n",
    "        # Display the DataFrame\n",
    "        print(df)\n",
    "    except requests.exceptions.JSONDecodeError as e:\n",
    "        print(\"JSON decoding failed:\", e)\n",
    "else:\n",
    "    print(f\"Failed to retrieve data: {response.status_code}\")"
   ]
  },
  {
   "cell_type": "code",
   "execution_count": 3,
   "metadata": {
    "colab": {
     "base_uri": "https://localhost:8080/"
    },
    "id": "QPdrI8tMQiWn",
    "outputId": "db237c55-ecda-4862-aa32-f146e19033a9"
   },
   "outputs": [
    {
     "data": {
      "text/plain": [
       "[{'level': 0,\n",
       "  'group': 'WET WEATHER',\n",
       "  'members': ['HAIL', 'RAIN', 'SLEET', 'SNOW']},\n",
       " {'level': 1,\n",
       "  'group': 'NBA TEAMS',\n",
       "  'members': ['BUCKS', 'HEAT', 'JAZZ', 'NETS']},\n",
       " {'level': 2,\n",
       "  'group': 'KEYBOARD KEYS',\n",
       "  'members': ['OPTION', 'RETURN', 'SHIFT', 'TAB']},\n",
       " {'level': 3,\n",
       "  'group': 'PALINDROMES',\n",
       "  'members': ['KAYAK', 'LEVEL', 'MOM', 'RACECAR']}]"
      ]
     },
     "execution_count": 3,
     "metadata": {},
     "output_type": "execute_result"
    }
   ],
   "source": [
    "df['answers'][0]"
   ]
  },
  {
   "cell_type": "code",
   "execution_count": 4,
   "metadata": {
    "id": "oflPMLY7T1n7"
   },
   "outputs": [],
   "source": [
    "def parse_levels_to_columns(df, answers_column='answers'):\n",
    "    \"\"\"\n",
    "    Parses the 'members' based on 'level' and adds them as separate columns for each level (0, 1, 2, 3).\n",
    "\n",
    "    Parameters:\n",
    "    df (pd.DataFrame): The input DataFrame.\n",
    "    answers_column (str): The name of the column containing the list of dictionaries.\n",
    "\n",
    "    Returns:\n",
    "    pd.DataFrame: The original DataFrame with added columns for each level.\n",
    "    \"\"\"\n",
    "    # Initialize lists to store members for each level\n",
    "    level_0_members = []\n",
    "    level_1_members = []\n",
    "    level_2_members = []\n",
    "    level_3_members = []\n",
    "\n",
    "    # Iterate through each row in the DataFrame\n",
    "    for answer_list in df[answers_column]:\n",
    "        # Create default empty lists for each level\n",
    "        level_0 = []\n",
    "        level_1 = []\n",
    "        level_2 = []\n",
    "        level_3 = []\n",
    "\n",
    "        # Iterate through each dictionary in the list\n",
    "        for entry in answer_list:\n",
    "            level = entry['level']\n",
    "            members = entry['members']\n",
    "\n",
    "            # Append members to the corresponding level list\n",
    "            if level == 0:\n",
    "                level_0 = members\n",
    "            elif level == 1:\n",
    "                level_1 = members\n",
    "            elif level == 2:\n",
    "                level_2 = members\n",
    "            elif level == 3:\n",
    "                level_3 = members\n",
    "\n",
    "        # Append to the lists that will become new columns\n",
    "        level_0_members.append(level_0)\n",
    "        level_1_members.append(level_1)\n",
    "        level_2_members.append(level_2)\n",
    "        level_3_members.append(level_3)\n",
    "\n",
    "    # Add the lists as new columns to the DataFrame\n",
    "    df['level_0'] = level_0_members\n",
    "    df['level_1'] = level_1_members\n",
    "    df['level_2'] = level_2_members\n",
    "    df['level_3'] = level_3_members\n",
    "\n",
    "    return df"
   ]
  },
  {
   "cell_type": "code",
   "execution_count": 5,
   "metadata": {
    "colab": {
     "base_uri": "https://localhost:8080/",
     "height": 771
    },
    "id": "C_rPgntjT3U4",
    "outputId": "1f3ac5a8-b5b2-4c8c-f7f3-94885aee3909"
   },
   "outputs": [
    {
     "data": {
      "text/html": [
       "<div>\n",
       "<style scoped>\n",
       "    .dataframe tbody tr th:only-of-type {\n",
       "        vertical-align: middle;\n",
       "    }\n",
       "\n",
       "    .dataframe tbody tr th {\n",
       "        vertical-align: top;\n",
       "    }\n",
       "\n",
       "    .dataframe thead th {\n",
       "        text-align: right;\n",
       "    }\n",
       "</style>\n",
       "<table border=\"1\" class=\"dataframe\">\n",
       "  <thead>\n",
       "    <tr style=\"text-align: right;\">\n",
       "      <th></th>\n",
       "      <th>id</th>\n",
       "      <th>date</th>\n",
       "      <th>answers</th>\n",
       "      <th>level_0</th>\n",
       "      <th>level_1</th>\n",
       "      <th>level_2</th>\n",
       "      <th>level_3</th>\n",
       "    </tr>\n",
       "  </thead>\n",
       "  <tbody>\n",
       "    <tr>\n",
       "      <th>0</th>\n",
       "      <td>1</td>\n",
       "      <td>2023-06-12</td>\n",
       "      <td>[{'level': 0, 'group': 'WET WEATHER', 'members...</td>\n",
       "      <td>[HAIL, RAIN, SLEET, SNOW]</td>\n",
       "      <td>[BUCKS, HEAT, JAZZ, NETS]</td>\n",
       "      <td>[OPTION, RETURN, SHIFT, TAB]</td>\n",
       "      <td>[KAYAK, LEVEL, MOM, RACECAR]</td>\n",
       "    </tr>\n",
       "    <tr>\n",
       "      <th>1</th>\n",
       "      <td>2</td>\n",
       "      <td>2023-06-13</td>\n",
       "      <td>[{'level': 0, 'group': 'FOOTWEAR', 'members': ...</td>\n",
       "      <td>[BOOT, LOAFER, PUMP, SNEAKER]</td>\n",
       "      <td>[FOOT, LEAGUE, MILE, YARD]</td>\n",
       "      <td>[ESSENCE, PEOPLE, TIME, US]</td>\n",
       "      <td>[ARE, QUEUE, SEA, WHY]</td>\n",
       "    </tr>\n",
       "    <tr>\n",
       "      <th>2</th>\n",
       "      <td>3</td>\n",
       "      <td>2023-06-14</td>\n",
       "      <td>[{'level': 0, 'group': 'FACIAL FEATURES', 'mem...</td>\n",
       "      <td>[CHEEK, EYE, MOUTH, NOSE]</td>\n",
       "      <td>[CHOW, GOBBLE, SCARF, WOLF]</td>\n",
       "      <td>[LAB, PEKE, PIT, POM]</td>\n",
       "      <td>[AMIGO, KING, STOOGE, TENOR]</td>\n",
       "    </tr>\n",
       "    <tr>\n",
       "      <th>3</th>\n",
       "      <td>4</td>\n",
       "      <td>2023-06-15</td>\n",
       "      <td>[{'level': 0, 'group': 'SNEAKER BRANDS', 'memb...</td>\n",
       "      <td>[ADIDAS, NIKE, PUMA, REEBOK]</td>\n",
       "      <td>[CABARET, CAROUSEL, CATS, CHICAGO]</td>\n",
       "      <td>[DUST, MOP, SWEEP, VACUUM]</td>\n",
       "      <td>[BAT, IRON, SPIDER, SUPER]</td>\n",
       "    </tr>\n",
       "    <tr>\n",
       "      <th>4</th>\n",
       "      <td>5</td>\n",
       "      <td>2023-06-16</td>\n",
       "      <td>[{'level': 0, 'group': 'STREAMING SERVICES', '...</td>\n",
       "      <td>[HULU, NETFLIX, PEACOCK, PRIME]</td>\n",
       "      <td>[KETCHUP, MAYO, RELISH, TARTAR]</td>\n",
       "      <td>[BLUE, DOWN, GLUM, LOW]</td>\n",
       "      <td>[GREEN, MUSTARD, PLUM, SCARLET]</td>\n",
       "    </tr>\n",
       "    <tr>\n",
       "      <th>...</th>\n",
       "      <td>...</td>\n",
       "      <td>...</td>\n",
       "      <td>...</td>\n",
       "      <td>...</td>\n",
       "      <td>...</td>\n",
       "      <td>...</td>\n",
       "      <td>...</td>\n",
       "    </tr>\n",
       "    <tr>\n",
       "      <th>432</th>\n",
       "      <td>433</td>\n",
       "      <td>2024-08-17</td>\n",
       "      <td>[{'level': 0, 'group': 'SPOKEN COMMUNICATION',...</td>\n",
       "      <td>[DIALECT, LANGUAGE, SPEECH, TONGUE]</td>\n",
       "      <td>[FRENCH, KISS, MAKE OUT, NECK]</td>\n",
       "      <td>[BANDAGE, DRESSING, SCISSORS, TAPE]</td>\n",
       "      <td>[COTTAGE, CRAFTSMAN, PRAIRIE, RANCH]</td>\n",
       "    </tr>\n",
       "    <tr>\n",
       "      <th>433</th>\n",
       "      <td>434</td>\n",
       "      <td>2024-08-18</td>\n",
       "      <td>[{'level': 0, 'group': 'ALARM CLOCK BUTTONS', ...</td>\n",
       "      <td>[ALARM, HOUR, SNOOZE, TIME SET]</td>\n",
       "      <td>[PERHAPS, SAY, SUPPOSE, WHAT IF]</td>\n",
       "      <td>[KISS, NERD, RUNT, WHOPPER]</td>\n",
       "      <td>[DO, DOPE, GRUMP, SLEEP]</td>\n",
       "    </tr>\n",
       "    <tr>\n",
       "      <th>434</th>\n",
       "      <td>435</td>\n",
       "      <td>2024-08-19</td>\n",
       "      <td>[{'level': 0, 'group': 'MUSIC GENRES', 'member...</td>\n",
       "      <td>[BLUES, COUNTRY, FOLK, ROCK]</td>\n",
       "      <td>[BRAT, BUN, MUSTARD, SAUERKRAUT]</td>\n",
       "      <td>[CHAIR, MOUNTAIN, TREE, WARRIOR]</td>\n",
       "      <td>[COCONUT, SOULMATE, UPDO, WALLET]</td>\n",
       "    </tr>\n",
       "    <tr>\n",
       "      <th>435</th>\n",
       "      <td>436</td>\n",
       "      <td>2024-08-20</td>\n",
       "      <td>[{'level': 0, 'group': 'RUSH OF WIND', 'member...</td>\n",
       "      <td>[BLOW, DRAFT, GUST, PUFF]</td>\n",
       "      <td>[CRANK, REEL, TURN, WIND]</td>\n",
       "      <td>[BULL, CRAB, LION, RAM]</td>\n",
       "      <td>[CAT, GRINCH, POP, TURTLE]</td>\n",
       "    </tr>\n",
       "    <tr>\n",
       "      <th>436</th>\n",
       "      <td>437</td>\n",
       "      <td>2024-08-21</td>\n",
       "      <td>[{'level': 0, 'group': 'COVER WITH A THICK LAY...</td>\n",
       "      <td>[CAKE, COAT, PLASTER, SMEAR]</td>\n",
       "      <td>[BALLOON, BASKETBALL, FLOATIE, TIRE]</td>\n",
       "      <td>[BAR, BUBBLE, LINE, PIE]</td>\n",
       "      <td>[FIZZ, PUNCH, SLING, SOUR]</td>\n",
       "    </tr>\n",
       "  </tbody>\n",
       "</table>\n",
       "<p>437 rows × 7 columns</p>\n",
       "</div>"
      ],
      "text/plain": [
       "      id        date                                            answers  \\\n",
       "0      1  2023-06-12  [{'level': 0, 'group': 'WET WEATHER', 'members...   \n",
       "1      2  2023-06-13  [{'level': 0, 'group': 'FOOTWEAR', 'members': ...   \n",
       "2      3  2023-06-14  [{'level': 0, 'group': 'FACIAL FEATURES', 'mem...   \n",
       "3      4  2023-06-15  [{'level': 0, 'group': 'SNEAKER BRANDS', 'memb...   \n",
       "4      5  2023-06-16  [{'level': 0, 'group': 'STREAMING SERVICES', '...   \n",
       "..   ...         ...                                                ...   \n",
       "432  433  2024-08-17  [{'level': 0, 'group': 'SPOKEN COMMUNICATION',...   \n",
       "433  434  2024-08-18  [{'level': 0, 'group': 'ALARM CLOCK BUTTONS', ...   \n",
       "434  435  2024-08-19  [{'level': 0, 'group': 'MUSIC GENRES', 'member...   \n",
       "435  436  2024-08-20  [{'level': 0, 'group': 'RUSH OF WIND', 'member...   \n",
       "436  437  2024-08-21  [{'level': 0, 'group': 'COVER WITH A THICK LAY...   \n",
       "\n",
       "                                 level_0  \\\n",
       "0              [HAIL, RAIN, SLEET, SNOW]   \n",
       "1          [BOOT, LOAFER, PUMP, SNEAKER]   \n",
       "2              [CHEEK, EYE, MOUTH, NOSE]   \n",
       "3           [ADIDAS, NIKE, PUMA, REEBOK]   \n",
       "4        [HULU, NETFLIX, PEACOCK, PRIME]   \n",
       "..                                   ...   \n",
       "432  [DIALECT, LANGUAGE, SPEECH, TONGUE]   \n",
       "433      [ALARM, HOUR, SNOOZE, TIME SET]   \n",
       "434         [BLUES, COUNTRY, FOLK, ROCK]   \n",
       "435            [BLOW, DRAFT, GUST, PUFF]   \n",
       "436         [CAKE, COAT, PLASTER, SMEAR]   \n",
       "\n",
       "                                  level_1  \\\n",
       "0               [BUCKS, HEAT, JAZZ, NETS]   \n",
       "1              [FOOT, LEAGUE, MILE, YARD]   \n",
       "2             [CHOW, GOBBLE, SCARF, WOLF]   \n",
       "3      [CABARET, CAROUSEL, CATS, CHICAGO]   \n",
       "4         [KETCHUP, MAYO, RELISH, TARTAR]   \n",
       "..                                    ...   \n",
       "432        [FRENCH, KISS, MAKE OUT, NECK]   \n",
       "433      [PERHAPS, SAY, SUPPOSE, WHAT IF]   \n",
       "434      [BRAT, BUN, MUSTARD, SAUERKRAUT]   \n",
       "435             [CRANK, REEL, TURN, WIND]   \n",
       "436  [BALLOON, BASKETBALL, FLOATIE, TIRE]   \n",
       "\n",
       "                                 level_2                               level_3  \n",
       "0           [OPTION, RETURN, SHIFT, TAB]          [KAYAK, LEVEL, MOM, RACECAR]  \n",
       "1            [ESSENCE, PEOPLE, TIME, US]                [ARE, QUEUE, SEA, WHY]  \n",
       "2                  [LAB, PEKE, PIT, POM]          [AMIGO, KING, STOOGE, TENOR]  \n",
       "3             [DUST, MOP, SWEEP, VACUUM]            [BAT, IRON, SPIDER, SUPER]  \n",
       "4                [BLUE, DOWN, GLUM, LOW]       [GREEN, MUSTARD, PLUM, SCARLET]  \n",
       "..                                   ...                                   ...  \n",
       "432  [BANDAGE, DRESSING, SCISSORS, TAPE]  [COTTAGE, CRAFTSMAN, PRAIRIE, RANCH]  \n",
       "433          [KISS, NERD, RUNT, WHOPPER]              [DO, DOPE, GRUMP, SLEEP]  \n",
       "434     [CHAIR, MOUNTAIN, TREE, WARRIOR]     [COCONUT, SOULMATE, UPDO, WALLET]  \n",
       "435              [BULL, CRAB, LION, RAM]            [CAT, GRINCH, POP, TURTLE]  \n",
       "436             [BAR, BUBBLE, LINE, PIE]            [FIZZ, PUNCH, SLING, SOUR]  \n",
       "\n",
       "[437 rows x 7 columns]"
      ]
     },
     "execution_count": 5,
     "metadata": {},
     "output_type": "execute_result"
    }
   ],
   "source": [
    "parsed_df = parse_levels_to_columns(df)\n",
    "parsed_df"
   ]
  },
  {
   "cell_type": "code",
   "execution_count": 6,
   "metadata": {
    "colab": {
     "base_uri": "https://localhost:8080/",
     "height": 597
    },
    "id": "g7CgNgdqVBVT",
    "outputId": "1f447484-c43d-4fe6-9231-084ba9781872"
   },
   "outputs": [
    {
     "data": {
      "text/html": [
       "<div>\n",
       "<style scoped>\n",
       "    .dataframe tbody tr th:only-of-type {\n",
       "        vertical-align: middle;\n",
       "    }\n",
       "\n",
       "    .dataframe tbody tr th {\n",
       "        vertical-align: top;\n",
       "    }\n",
       "\n",
       "    .dataframe thead th {\n",
       "        text-align: right;\n",
       "    }\n",
       "</style>\n",
       "<table border=\"1\" class=\"dataframe\">\n",
       "  <thead>\n",
       "    <tr style=\"text-align: right;\">\n",
       "      <th></th>\n",
       "      <th>level_0_1</th>\n",
       "      <th>level_0_2</th>\n",
       "      <th>level_0_3</th>\n",
       "      <th>level_0_4</th>\n",
       "      <th>level_1_1</th>\n",
       "      <th>level_1_2</th>\n",
       "      <th>level_1_3</th>\n",
       "      <th>level_1_4</th>\n",
       "      <th>level_2_1</th>\n",
       "      <th>level_2_2</th>\n",
       "      <th>level_2_3</th>\n",
       "      <th>level_2_4</th>\n",
       "      <th>level_3_1</th>\n",
       "      <th>level_3_2</th>\n",
       "      <th>level_3_3</th>\n",
       "      <th>level_3_4</th>\n",
       "    </tr>\n",
       "  </thead>\n",
       "  <tbody>\n",
       "    <tr>\n",
       "      <th>0</th>\n",
       "      <td>hail</td>\n",
       "      <td>rain</td>\n",
       "      <td>sleet</td>\n",
       "      <td>snow</td>\n",
       "      <td>bucks</td>\n",
       "      <td>heat</td>\n",
       "      <td>jazz</td>\n",
       "      <td>nets</td>\n",
       "      <td>option</td>\n",
       "      <td>return</td>\n",
       "      <td>shift</td>\n",
       "      <td>tab</td>\n",
       "      <td>kayak</td>\n",
       "      <td>level</td>\n",
       "      <td>mom</td>\n",
       "      <td>racecar</td>\n",
       "    </tr>\n",
       "    <tr>\n",
       "      <th>1</th>\n",
       "      <td>boot</td>\n",
       "      <td>loafer</td>\n",
       "      <td>pump</td>\n",
       "      <td>sneaker</td>\n",
       "      <td>foot</td>\n",
       "      <td>league</td>\n",
       "      <td>mile</td>\n",
       "      <td>yard</td>\n",
       "      <td>essence</td>\n",
       "      <td>people</td>\n",
       "      <td>time</td>\n",
       "      <td>us</td>\n",
       "      <td>are</td>\n",
       "      <td>queue</td>\n",
       "      <td>sea</td>\n",
       "      <td>why</td>\n",
       "    </tr>\n",
       "    <tr>\n",
       "      <th>2</th>\n",
       "      <td>cheek</td>\n",
       "      <td>eye</td>\n",
       "      <td>mouth</td>\n",
       "      <td>nose</td>\n",
       "      <td>chow</td>\n",
       "      <td>gobble</td>\n",
       "      <td>scarf</td>\n",
       "      <td>wolf</td>\n",
       "      <td>lab</td>\n",
       "      <td>peke</td>\n",
       "      <td>pit</td>\n",
       "      <td>pom</td>\n",
       "      <td>amigo</td>\n",
       "      <td>king</td>\n",
       "      <td>stooge</td>\n",
       "      <td>tenor</td>\n",
       "    </tr>\n",
       "    <tr>\n",
       "      <th>3</th>\n",
       "      <td>adidas</td>\n",
       "      <td>nike</td>\n",
       "      <td>puma</td>\n",
       "      <td>reebok</td>\n",
       "      <td>cabaret</td>\n",
       "      <td>carousel</td>\n",
       "      <td>cats</td>\n",
       "      <td>chicago</td>\n",
       "      <td>dust</td>\n",
       "      <td>mop</td>\n",
       "      <td>sweep</td>\n",
       "      <td>vacuum</td>\n",
       "      <td>bat</td>\n",
       "      <td>iron</td>\n",
       "      <td>spider</td>\n",
       "      <td>super</td>\n",
       "    </tr>\n",
       "    <tr>\n",
       "      <th>4</th>\n",
       "      <td>hulu</td>\n",
       "      <td>netflix</td>\n",
       "      <td>peacock</td>\n",
       "      <td>prime</td>\n",
       "      <td>ketchup</td>\n",
       "      <td>mayo</td>\n",
       "      <td>relish</td>\n",
       "      <td>tartar</td>\n",
       "      <td>blue</td>\n",
       "      <td>down</td>\n",
       "      <td>glum</td>\n",
       "      <td>low</td>\n",
       "      <td>green</td>\n",
       "      <td>mustard</td>\n",
       "      <td>plum</td>\n",
       "      <td>scarlet</td>\n",
       "    </tr>\n",
       "    <tr>\n",
       "      <th>...</th>\n",
       "      <td>...</td>\n",
       "      <td>...</td>\n",
       "      <td>...</td>\n",
       "      <td>...</td>\n",
       "      <td>...</td>\n",
       "      <td>...</td>\n",
       "      <td>...</td>\n",
       "      <td>...</td>\n",
       "      <td>...</td>\n",
       "      <td>...</td>\n",
       "      <td>...</td>\n",
       "      <td>...</td>\n",
       "      <td>...</td>\n",
       "      <td>...</td>\n",
       "      <td>...</td>\n",
       "      <td>...</td>\n",
       "    </tr>\n",
       "    <tr>\n",
       "      <th>432</th>\n",
       "      <td>dialect</td>\n",
       "      <td>language</td>\n",
       "      <td>speech</td>\n",
       "      <td>tongue</td>\n",
       "      <td>french</td>\n",
       "      <td>kiss</td>\n",
       "      <td>make out</td>\n",
       "      <td>neck</td>\n",
       "      <td>bandage</td>\n",
       "      <td>dressing</td>\n",
       "      <td>scissors</td>\n",
       "      <td>tape</td>\n",
       "      <td>cottage</td>\n",
       "      <td>craftsman</td>\n",
       "      <td>prairie</td>\n",
       "      <td>ranch</td>\n",
       "    </tr>\n",
       "    <tr>\n",
       "      <th>433</th>\n",
       "      <td>alarm</td>\n",
       "      <td>hour</td>\n",
       "      <td>snooze</td>\n",
       "      <td>time set</td>\n",
       "      <td>perhaps</td>\n",
       "      <td>say</td>\n",
       "      <td>suppose</td>\n",
       "      <td>what if</td>\n",
       "      <td>kiss</td>\n",
       "      <td>nerd</td>\n",
       "      <td>runt</td>\n",
       "      <td>whopper</td>\n",
       "      <td>do</td>\n",
       "      <td>dope</td>\n",
       "      <td>grump</td>\n",
       "      <td>sleep</td>\n",
       "    </tr>\n",
       "    <tr>\n",
       "      <th>434</th>\n",
       "      <td>blues</td>\n",
       "      <td>country</td>\n",
       "      <td>folk</td>\n",
       "      <td>rock</td>\n",
       "      <td>brat</td>\n",
       "      <td>bun</td>\n",
       "      <td>mustard</td>\n",
       "      <td>sauerkraut</td>\n",
       "      <td>chair</td>\n",
       "      <td>mountain</td>\n",
       "      <td>tree</td>\n",
       "      <td>warrior</td>\n",
       "      <td>coconut</td>\n",
       "      <td>soulmate</td>\n",
       "      <td>updo</td>\n",
       "      <td>wallet</td>\n",
       "    </tr>\n",
       "    <tr>\n",
       "      <th>435</th>\n",
       "      <td>blow</td>\n",
       "      <td>draft</td>\n",
       "      <td>gust</td>\n",
       "      <td>puff</td>\n",
       "      <td>crank</td>\n",
       "      <td>reel</td>\n",
       "      <td>turn</td>\n",
       "      <td>wind</td>\n",
       "      <td>bull</td>\n",
       "      <td>crab</td>\n",
       "      <td>lion</td>\n",
       "      <td>ram</td>\n",
       "      <td>cat</td>\n",
       "      <td>grinch</td>\n",
       "      <td>pop</td>\n",
       "      <td>turtle</td>\n",
       "    </tr>\n",
       "    <tr>\n",
       "      <th>436</th>\n",
       "      <td>cake</td>\n",
       "      <td>coat</td>\n",
       "      <td>plaster</td>\n",
       "      <td>smear</td>\n",
       "      <td>balloon</td>\n",
       "      <td>basketball</td>\n",
       "      <td>floatie</td>\n",
       "      <td>tire</td>\n",
       "      <td>bar</td>\n",
       "      <td>bubble</td>\n",
       "      <td>line</td>\n",
       "      <td>pie</td>\n",
       "      <td>fizz</td>\n",
       "      <td>punch</td>\n",
       "      <td>sling</td>\n",
       "      <td>sour</td>\n",
       "    </tr>\n",
       "  </tbody>\n",
       "</table>\n",
       "<p>437 rows × 16 columns</p>\n",
       "</div>"
      ],
      "text/plain": [
       "    level_0_1 level_0_2 level_0_3 level_0_4 level_1_1   level_1_2 level_1_3  \\\n",
       "0        hail      rain     sleet      snow     bucks        heat      jazz   \n",
       "1        boot    loafer      pump   sneaker      foot      league      mile   \n",
       "2       cheek       eye     mouth      nose      chow      gobble     scarf   \n",
       "3      adidas      nike      puma    reebok   cabaret    carousel      cats   \n",
       "4        hulu   netflix   peacock     prime   ketchup        mayo    relish   \n",
       "..        ...       ...       ...       ...       ...         ...       ...   \n",
       "432   dialect  language    speech    tongue    french        kiss  make out   \n",
       "433     alarm      hour    snooze  time set   perhaps         say   suppose   \n",
       "434     blues   country      folk      rock      brat         bun   mustard   \n",
       "435      blow     draft      gust      puff     crank        reel      turn   \n",
       "436      cake      coat   plaster     smear   balloon  basketball   floatie   \n",
       "\n",
       "      level_1_4 level_2_1 level_2_2 level_2_3 level_2_4 level_3_1  level_3_2  \\\n",
       "0          nets    option    return     shift       tab     kayak      level   \n",
       "1          yard   essence    people      time        us       are      queue   \n",
       "2          wolf       lab      peke       pit       pom     amigo       king   \n",
       "3       chicago      dust       mop     sweep    vacuum       bat       iron   \n",
       "4        tartar      blue      down      glum       low     green    mustard   \n",
       "..          ...       ...       ...       ...       ...       ...        ...   \n",
       "432        neck   bandage  dressing  scissors      tape   cottage  craftsman   \n",
       "433     what if      kiss      nerd      runt   whopper        do       dope   \n",
       "434  sauerkraut     chair  mountain      tree   warrior   coconut   soulmate   \n",
       "435        wind      bull      crab      lion       ram       cat     grinch   \n",
       "436        tire       bar    bubble      line       pie      fizz      punch   \n",
       "\n",
       "    level_3_3 level_3_4  \n",
       "0         mom   racecar  \n",
       "1         sea       why  \n",
       "2      stooge     tenor  \n",
       "3      spider     super  \n",
       "4        plum   scarlet  \n",
       "..        ...       ...  \n",
       "432   prairie     ranch  \n",
       "433     grump     sleep  \n",
       "434      updo    wallet  \n",
       "435       pop    turtle  \n",
       "436     sling      sour  \n",
       "\n",
       "[437 rows x 16 columns]"
      ]
     },
     "execution_count": 6,
     "metadata": {},
     "output_type": "execute_result"
    }
   ],
   "source": [
    "work_df = parsed_df.drop(['id' , 'date' , 'answers'] , axis=1)\n",
    "\n",
    "# We'll use this to compare the grouped up answers in the evaluation section\n",
    "evaluation_df = parsed_df.drop(['id' , 'date' , 'answers'] , axis=1)\n",
    "# Convert all words to lowercase\n",
    "evaluation_df = evaluation_df.applymap(lambda words: [word.lower() for word in words])\n",
    "\n",
    "# Unravel the lists into separate columns\n",
    "unraveled_df = pd.concat(\n",
    "    [work_df[col].apply(pd.Series) for col in work_df.columns], axis=1\n",
    ")\n",
    "\n",
    "# Rename the columns based on the original column names\n",
    "new_columns = []\n",
    "for col in work_df.columns:\n",
    "    new_columns.extend([f'{col}_{i+1}' for i in range(4)])\n",
    "\n",
    "unraveled_df.columns = new_columns\n",
    "\n",
    "# Assign back to work_df\n",
    "work_df = unraveled_df\n",
    "\n",
    "# Convert all words to lowercase\n",
    "work_df = work_df.applymap(lambda x: x.lower() if isinstance(x, str) else x)\n",
    "\n",
    "work_df"
   ]
  },
  {
   "cell_type": "markdown",
   "metadata": {
    "id": "sph5v6bYSlVj"
   },
   "source": [
    "# Word Embeddings"
   ]
  },
  {
   "cell_type": "markdown",
   "metadata": {},
   "source": [
    "We need to cast all words to lower case. Pre-trained word embedding models are case sensitive!"
   ]
  },
  {
   "cell_type": "code",
   "execution_count": null,
   "metadata": {
    "colab": {
     "base_uri": "https://localhost:8080/"
    },
    "id": "XPqPdd-jaa_p",
    "outputId": "fddf8b6b-4c83-4f65-e433-e024904f92bd"
   },
   "outputs": [],
   "source": [
    "!pip install gensim"
   ]
  },
  {
   "cell_type": "code",
   "execution_count": 8,
   "metadata": {
    "id": "CcgkTZsAhYJ1"
   },
   "outputs": [],
   "source": [
    "# Import necessary libraries\n",
    "from gensim.models import Word2Vec, FastText, KeyedVectors"
   ]
  },
  {
   "cell_type": "markdown",
   "metadata": {},
   "source": [
    "***These are pretrained models with 300d word embeddings that I considered Using.***\n",
    "\n",
    "word2vec: https://www.kaggle.com/datasets/adarshsng/googlenewsvectors\n",
    "- 3000000 words\n",
    "- GoogleNews-vectors-negative300\n",
    "\n",
    "Glove: https://nlp.stanford.edu/projects/glove/\n",
    "- 6b = wikipedia + gigaword, it has 400k vocab\n",
    "- 840b = common crawl, it has 2.2 million\n",
    "\n",
    "Fasttext: https://fasttext.cc/docs/en/english-vectors.html\n",
    "- wiki-news-300d-1M-subword\n",
    "- crawl-300d-2M-subword.zip\n",
    "\n",
    "***I narrowed it down by focusing on word count and input corpus. We have to be thinking whether or not the kinds of words in connections are contained frequently within the input corpus.***\n",
    "\n",
    "word2vec: GoogleNews-vectors-negative300\n",
    "\n",
    "glove: glove.840B.300d common crawl 2.2 million words\n",
    "\n",
    "Fasttext: crawl-300d-2M-subword"
   ]
  },
  {
   "cell_type": "code",
   "execution_count": 9,
   "metadata": {
    "colab": {
     "base_uri": "https://localhost:8080/",
     "height": 373
    },
    "id": "s9xYXamKQtBs",
    "outputId": "fc7dcd5e-2680-4fba-cb05-a2f1ab0b2c90"
   },
   "outputs": [],
   "source": [
    "'''THIS TAKES A WHILE BUT DOES WORK'''\n",
    "\n",
    "# Load pre-trained Word2Vec model\n",
    "word2vec_model = KeyedVectors.load_word2vec_format('embeddings/GoogleNews-vectors-negative300.bin', binary=True)\n",
    "\n",
    "# Load pre-trained GloVe embeddings\n",
    "glove_model = KeyedVectors.load_word2vec_format('embeddings/glove.840B.300d.txt', binary=False, no_header=True)\n",
    "\n",
    "# Load pre-trained FastText model\n",
    "fasttext_model = KeyedVectors.load_word2vec_format('embeddings/crawl-300d-2M-subword.vec')\n",
    "\n",
    "# # Load pre-trained BERT model and tokenizer\n",
    "# bert_tokenizer = BertTokenizer.from_pretrained('bert-base-uncased') # if we want to use Bert we gotta scale it down to 300d, using PCA or something\n",
    "# bert_model = BertModel.from_pretrained('bert-base-uncased')"
   ]
  },
  {
   "cell_type": "markdown",
   "metadata": {},
   "source": [
    "## Make three different dataframes of word embeddings from each model"
   ]
  },
  {
   "cell_type": "code",
   "execution_count": 10,
   "metadata": {},
   "outputs": [],
   "source": [
    "# Initialize lists to store unrecognized words\n",
    "unrecognized_words_word2vec = []\n",
    "unrecognized_words_fasttext = []\n",
    "unrecognized_words_glove = []\n",
    "\n",
    "def word2vec(word):\n",
    "    try:\n",
    "        return word2vec_model[word]\n",
    "    except KeyError:\n",
    "        # Create a random vector for unrecognized words\n",
    "        random_vector = np.random.rand(word2vec_model.vector_size)\n",
    "        unrecognized_words_word2vec.append(word)  # Record the unrecognized word\n",
    "        return random_vector\n",
    "\n",
    "def fasttext(word):\n",
    "    try:\n",
    "        return fasttext_model[word]\n",
    "    except KeyError:\n",
    "        # Create a random vector for unrecognized words\n",
    "        random_vector = np.random.rand(fasttext_model.vector_size)\n",
    "        unrecognized_words_fasttext.append(word)  # Record the unrecognized word\n",
    "        return random_vector\n",
    "\n",
    "def glove(word):\n",
    "    try:\n",
    "        return glove_model[word]\n",
    "    except KeyError:\n",
    "        # Create a random vector for unrecognized words\n",
    "        random_vector = np.random.rand(glove_model.vector_size)\n",
    "        unrecognized_words_glove.append(word)  # Record the unrecognized word\n",
    "        return random_vector\n",
    "\n",
    "def get_embeddings(connections_df):\n",
    "    # Initialize DataFrames to hold embeddings\n",
    "    word2vec_df = pd.DataFrame(columns=connections_df.columns)\n",
    "    fasttext_df = pd.DataFrame(columns=connections_df.columns)\n",
    "    glove_df = pd.DataFrame(columns=connections_df.columns)\n",
    "    \n",
    "    for column in connections_df.columns:\n",
    "        # Initialize lists that will store a column's embeddings\n",
    "        word2vec_collected = []\n",
    "        fasttext_collected = []\n",
    "        glove_collected = []\n",
    "        \n",
    "        for word in connections_df[column]:\n",
    "            # Get embeddings for each word and append to lists\n",
    "            word2vec_collected.append(word2vec(word))\n",
    "            fasttext_collected.append(fasttext(word))\n",
    "            glove_collected.append(glove(word))\n",
    "        \n",
    "        word2vec_df[column] = word2vec_collected\n",
    "        fasttext_df[column] = fasttext_collected\n",
    "        glove_df[column] = glove_collected\n",
    "\n",
    "    return word2vec_df, fasttext_df, glove_df, unrecognized_words_word2vec, unrecognized_words_fasttext, unrecognized_words_glove"
   ]
  },
  {
   "cell_type": "code",
   "execution_count": 11,
   "metadata": {},
   "outputs": [],
   "source": [
    "unrecognized_words_word2vec= []\n",
    "unrecognized_words_fasttext= []\n",
    "unrecognized_words_glove = []\n",
    "word2vec_df, fasttext_df, glove_df, unrecognized_words_word2vec, unrecognized_words_fasttext, unrecognized_words_glove = get_embeddings(work_df)"
   ]
  },
  {
   "cell_type": "code",
   "execution_count": 12,
   "metadata": {},
   "outputs": [
    {
     "name": "stdout",
     "output_type": "stream",
     "text": [
      "Vocabulary Size: 3000000\n",
      "Vocabulary Size: 2196016\n",
      "Vocabulary Size: 2000000\n"
     ]
    }
   ],
   "source": [
    "# Check the number of words in the GloVe model\n",
    "vocab_size = len(word2vec_model.key_to_index)\n",
    "print(f\"Vocabulary Size: {vocab_size}\")\n",
    "# Check the number of words in the GloVe model\n",
    "vocab_size = len(glove_model.key_to_index)\n",
    "print(f\"Vocabulary Size: {vocab_size}\")\n",
    "# Check the number of words in the GloVe model\n",
    "vocab_size = len(fasttext_model.key_to_index)\n",
    "print(f\"Vocabulary Size: {vocab_size}\")"
   ]
  },
  {
   "cell_type": "code",
   "execution_count": 13,
   "metadata": {},
   "outputs": [
    {
     "name": "stdout",
     "output_type": "stream",
     "text": [
      "Number of unrecognized words for Word2Vec: 167\n",
      "Number of unrecognized words for FastText: 79\n",
      "Number of unrecognized words for GloVe: 87\n"
     ]
    }
   ],
   "source": [
    "# Print the number of unrecognized words for each model\n",
    "print(f\"Number of unrecognized words for Word2Vec: {len(unrecognized_words_word2vec)}\")\n",
    "print(f\"Number of unrecognized words for FastText: {len(unrecognized_words_fasttext)}\")\n",
    "print(f\"Number of unrecognized words for GloVe: {len(unrecognized_words_glove)}\")"
   ]
  },
  {
   "cell_type": "code",
   "execution_count": 14,
   "metadata": {},
   "outputs": [],
   "source": [
    "# Save word2vec_df to a CSV file\n",
    "word2vec_df.to_csv('word2vec_embeddings.csv', index=False)\n",
    "# Save word2vec_df to a CSV file\n",
    "fasttext_df.to_csv('fasttext_df.csv', index=False)\n",
    "# Save word2vec_df to a CSV file\n",
    "glove_df.to_csv('glove_df.csv', index=False)\n",
    "# Save work_df to a CSV file\n",
    "work_df.to_csv('work_df.csv', index=False)"
   ]
  },
  {
   "cell_type": "markdown",
   "metadata": {},
   "source": [
    "# Clustering Without Dimension Reduction"
   ]
  },
  {
   "cell_type": "code",
   "execution_count": 21,
   "metadata": {},
   "outputs": [],
   "source": [
    "from sklearn.cluster import KMeans\n",
    "from sklearn.metrics.pairwise import cosine_distances\n",
    "from sklearn.preprocessing import StandardScaler\n",
    "from sklearn.metrics.pairwise import cosine_similarity\n",
    "from skfuzzy import cmeans\n",
    "from scipy.spatial.distance import cdist\n",
    "from scipy.spatial.distance import pdist, squareform\n",
    "from k_means_constrained import KMeansConstrained\n",
    "import itertools\n",
    "from itertools import combinations\n",
    "import random"
   ]
  },
  {
   "cell_type": "markdown",
   "metadata": {},
   "source": [
    "### Finds a cluster of four, then removes the four vectors, finds the next cluster, and repeat"
   ]
  },
  {
   "cell_type": "markdown",
   "metadata": {},
   "source": [
    "Calculates pairwise cosine similarities of every possible group of four to find the best similarity cluster. This cluster is then removed and the next best cluster is calcluated."
   ]
  },
  {
   "cell_type": "code",
   "execution_count": 16,
   "metadata": {},
   "outputs": [],
   "source": [
    "def find_best_cluster(embeddings, cluster_size=4):\n",
    "    # Compute pairwise cosine similarities\n",
    "    pairwise_similarities = 1 - squareform(pdist(embeddings, metric='cosine'))\n",
    "    \n",
    "    # Initialize variables to track the best cluster\n",
    "    best_score = -np.inf\n",
    "    best_cluster = None\n",
    "    \n",
    "    # Iterate over all possible combinations of cluster_size elements\n",
    "    for indices in combinations(range(len(embeddings)), cluster_size):\n",
    "        score = sum(pairwise_similarities[i, j] for i in indices for j in indices if i < j)\n",
    "        if score > best_score:\n",
    "            best_score = score\n",
    "            best_cluster = indices\n",
    "    \n",
    "    return best_cluster\n",
    "\n",
    "def constrained_clustering(embedding_list, word_list, n_clusters=4, cluster_size=4):\n",
    "    flattened_embeddings = np.vstack(embedding_list)\n",
    "    flattened_words = word_list\n",
    "    \n",
    "    clusters_embeddings = []\n",
    "    clusters_words = []\n",
    "    \n",
    "    while len(flattened_embeddings) >= cluster_size:\n",
    "        best_cluster_indices = find_best_cluster(flattened_embeddings, cluster_size)\n",
    "        \n",
    "        # Extract the best cluster\n",
    "        best_cluster_embeddings = [flattened_embeddings[i] for i in best_cluster_indices]\n",
    "        best_cluster_words = [flattened_words[i] for i in best_cluster_indices]\n",
    "        \n",
    "        # Append to clusters\n",
    "        clusters_embeddings.append(best_cluster_embeddings)\n",
    "        clusters_words.append(best_cluster_words)\n",
    "        \n",
    "        # Remove clustered elements\n",
    "        flattened_embeddings = np.delete(flattened_embeddings, best_cluster_indices, axis=0)\n",
    "        flattened_words = [word for i, word in enumerate(flattened_words) if i not in best_cluster_indices]\n",
    "    \n",
    "    return {\n",
    "        'embeddings': clusters_embeddings,\n",
    "        'words': clusters_words\n",
    "    }"
   ]
  },
  {
   "cell_type": "code",
   "execution_count": 17,
   "metadata": {},
   "outputs": [],
   "source": [
    "def add_clusters_to_dataframe(df, work_df):\n",
    "    df_with_clusters = pd.DataFrame()\n",
    "    \n",
    "    # Iterate over each row in the DataFrame\n",
    "    for index in range(len(df)):\n",
    "        # Get the embeddings and words for the current row\n",
    "        embedding_list = [df.iloc[index][col] for col in df.columns]\n",
    "        word_list = [work_df.iloc[index][col] for col in work_df.columns]\n",
    "        \n",
    "        # Perform constrained clustering\n",
    "        clusters = constrained_clustering(embedding_list, word_list)\n",
    "        \n",
    "        cluster_data = {}\n",
    "        for i in range(len(clusters['embeddings'])):\n",
    "            cluster_data[f'cluster_{i+1}_words'] = [clusters['words'][i]]\n",
    "        \n",
    "        # Create a single-row DataFrame for the current row's clusters\n",
    "        clusters_df = pd.DataFrame(cluster_data)\n",
    "        \n",
    "        # Concatenate the single-row DataFrame to the final DataFrame\n",
    "        df_with_clusters = pd.concat([df_with_clusters, clusters_df], ignore_index=True)\n",
    "        \n",
    "    return df_with_clusters"
   ]
  },
  {
   "cell_type": "markdown",
   "metadata": {},
   "source": [
    "Makes Four Clusters, maximizing net similarity across all clusters"
   ]
  },
  {
   "cell_type": "code",
   "execution_count": 18,
   "metadata": {},
   "outputs": [],
   "source": [
    "def kmeans_constrained(df, work_df):\n",
    "    \"\"\"\n",
    "    Applies KMeansClustering with constraints to word embeddings for each row in the DataFrame,\n",
    "    and maps clusters to corresponding words.\n",
    "    \n",
    "    Parameters:\n",
    "    df (pd.DataFrame): A DataFrame where each cell contains a word embedding vector.\n",
    "    work_df (pd.DataFrame): A DataFrame where each cell contains the corresponding words.\n",
    "    \n",
    "    Returns:\n",
    "    pd.DataFrame: A DataFrame where each row contains lists of words for each cluster.\n",
    "    \"\"\"\n",
    "    num_clusters = 4\n",
    "    size_min = 4\n",
    "    size_max = 4\n",
    "    \n",
    "    results = []\n",
    "\n",
    "    for index, row in df.iterrows():\n",
    "        # Convert the row to a 2D NumPy array of embeddings\n",
    "        embeddings = np.array([row[i] for i in range(df.shape[1])])\n",
    "\n",
    "        # Compute the similarity matrix\n",
    "        sim_matrix = cosine_similarity(embeddings)\n",
    "        \n",
    "        # Apply KMeansConstrained\n",
    "        clf = KMeansConstrained(n_clusters=num_clusters, size_min=size_min, size_max=size_max, random_state=0)\n",
    "        labels = clf.fit_predict(sim_matrix)\n",
    "        \n",
    "        # Map cluster labels to words\n",
    "        clustered_words = {i: [] for i in range(num_clusters)}\n",
    "        for i, label in enumerate(labels):\n",
    "            word = work_df.iloc[index, i]\n",
    "            clustered_words[label].append(word)\n",
    "        \n",
    "        # Append results\n",
    "        result_row = {\n",
    "            'Cluster 1': clustered_words[0],\n",
    "            'Cluster 2': clustered_words[1],\n",
    "            'Cluster 3': clustered_words[2],\n",
    "            'Cluster 4': clustered_words[3]\n",
    "        }\n",
    "        results.append(result_row)\n",
    "    \n",
    "    # Convert the results to a DataFrame\n",
    "    result_df = pd.DataFrame(results)\n",
    "    \n",
    "    return result_df"
   ]
  },
  {
   "cell_type": "markdown",
   "metadata": {},
   "source": [
    "Fuzzy C means is a method of soft clustering. I use it at the end to take a closer look at the most recent connections"
   ]
  },
  {
   "cell_type": "code",
   "execution_count": 19,
   "metadata": {},
   "outputs": [],
   "source": [
    "def fuzzy_cmeans(df, work_df, num_clusters=4, m=1.45, max_iter=100, error=1e-5):\n",
    "    \"\"\"\n",
    "    Applies Fuzzy C-Means Clustering to word embeddings for each row in the DataFrame,\n",
    "    and maps clusters to corresponding words with membership degrees.\n",
    "    \n",
    "    Parameters:\n",
    "    df (pd.DataFrame): A DataFrame where each cell contains a word embedding vector.\n",
    "    work_df (pd.DataFrame): A DataFrame where each cell contains the corresponding words.\n",
    "    num_clusters (int): The number of clusters for Fuzzy C-Means.\n",
    "    m (float): The fuzziness parameter, usually set to 2.0.\n",
    "    max_iter (int): Maximum number of iterations for the Fuzzy C-Means algorithm.\n",
    "    error (float): Convergence criterion for the Fuzzy C-Means algorithm.\n",
    "    \n",
    "    Returns:\n",
    "    pd.DataFrame: A DataFrame where each row contains lists of words for each cluster\n",
    "                  along with their membership degrees.\n",
    "    \"\"\"\n",
    "    results = []\n",
    "\n",
    "    for index, row in df.iterrows():\n",
    "        # Convert the row to a 2D NumPy array of embeddings\n",
    "        embeddings = np.array([row[i] for i in range(df.shape[1])])\n",
    "        \n",
    "        # Normalize the embeddings\n",
    "        scaler = StandardScaler()\n",
    "        embeddings = scaler.fit_transform(embeddings)\n",
    "        \n",
    "        # Compute the similarity matrix\n",
    "        sim_matrix = cosine_similarity(embeddings)\n",
    "        \n",
    "        # Apply Fuzzy C-Means\n",
    "        cntr, u, u0, d, jm, p, fpc = cmeans(\n",
    "            sim_matrix.T,  # Transpose to match the shape required by cmeans\n",
    "            c=num_clusters,\n",
    "            m=m,\n",
    "            maxiter=max_iter,\n",
    "            error=error,\n",
    "            init=None,\n",
    "            seed=42\n",
    "        )\n",
    "        \n",
    "        # Map membership degrees to words\n",
    "        cluster_memberships = np.argmax(u, axis=0)\n",
    "        memberships = {i: [] for i in range(num_clusters)}\n",
    "        \n",
    "        for i, membership in enumerate(u.T):\n",
    "            words = work_df.iloc[index].tolist()\n",
    "            for cluster_index, degree in enumerate(membership):\n",
    "                if degree > 0:\n",
    "                    memberships[cluster_index].append((words[i], degree))\n",
    "        \n",
    "        # Sort words within each cluster by membership degree\n",
    "        sorted_memberships = {i: sorted(memberships[i], key=lambda x: x[1], reverse=True) for i in range(num_clusters)}\n",
    "        \n",
    "        # Append results\n",
    "        result_row = {\n",
    "            f'Cluster {i+1}': sorted_memberships[i] for i in range(num_clusters)\n",
    "        }\n",
    "        results.append(result_row)\n",
    "    \n",
    "    # Convert the results to a DataFrame\n",
    "    result_df = pd.DataFrame(results)\n",
    "    \n",
    "    return result_df"
   ]
  },
  {
   "cell_type": "markdown",
   "metadata": {},
   "source": [
    "### Maximizing Similarity In Cluster 1, then 2, then 3, & then 4."
   ]
  },
  {
   "cell_type": "markdown",
   "metadata": {},
   "source": [
    "**Word2Vec**"
   ]
  },
  {
   "cell_type": "code",
   "execution_count": 22,
   "metadata": {},
   "outputs": [],
   "source": [
    "df_with_clusters_word2vec = add_clusters_to_dataframe(word2vec_df  , work_df)"
   ]
  },
  {
   "cell_type": "markdown",
   "metadata": {},
   "source": [
    "**Fasttext**"
   ]
  },
  {
   "cell_type": "code",
   "execution_count": 23,
   "metadata": {},
   "outputs": [],
   "source": [
    "df_with_clusters_fasttext = add_clusters_to_dataframe(fasttext_df  , work_df)"
   ]
  },
  {
   "cell_type": "markdown",
   "metadata": {},
   "source": [
    "**GloVe**"
   ]
  },
  {
   "cell_type": "code",
   "execution_count": 24,
   "metadata": {},
   "outputs": [],
   "source": [
    "df_with_clusters_glove = add_clusters_to_dataframe(glove_df  , work_df)"
   ]
  },
  {
   "cell_type": "markdown",
   "metadata": {},
   "source": [
    "### Constrained KMeans"
   ]
  },
  {
   "cell_type": "markdown",
   "metadata": {},
   "source": [
    "***Word2Vec***"
   ]
  },
  {
   "cell_type": "code",
   "execution_count": 25,
   "metadata": {},
   "outputs": [],
   "source": [
    "df_with_kmeans_constrained_word2vec = kmeans_constrained(word2vec_df  , work_df)"
   ]
  },
  {
   "cell_type": "markdown",
   "metadata": {},
   "source": [
    "***Fasttext***"
   ]
  },
  {
   "cell_type": "code",
   "execution_count": 26,
   "metadata": {},
   "outputs": [],
   "source": [
    "df_with_kmeans_constrained_fasttext = kmeans_constrained(fasttext_df  , work_df)"
   ]
  },
  {
   "cell_type": "markdown",
   "metadata": {},
   "source": [
    "***Glove***"
   ]
  },
  {
   "cell_type": "code",
   "execution_count": 27,
   "metadata": {},
   "outputs": [],
   "source": [
    "df_with_kmeans_constrained_glove = kmeans_constrained(glove_df  , work_df)"
   ]
  },
  {
   "cell_type": "markdown",
   "metadata": {},
   "source": [
    "# Clustering with Dimension Reduction"
   ]
  },
  {
   "cell_type": "code",
   "execution_count": 28,
   "metadata": {},
   "outputs": [],
   "source": [
    "from sklearn.decomposition import PCA"
   ]
  },
  {
   "cell_type": "markdown",
   "metadata": {},
   "source": [
    "Use PCA to address the curse of dimensionality and analyze how this affects the clustering."
   ]
  },
  {
   "cell_type": "code",
   "execution_count": 29,
   "metadata": {},
   "outputs": [],
   "source": [
    "def ppa(word_embeddings_df, n_components):\n",
    "    \"\"\"\n",
    "    Apply the Post-Processing Algorithm (PPA) to a DataFrame of word embeddings.\n",
    "\n",
    "    Parameters:\n",
    "    - word_embeddings_df: A DataFrame where each cell contains a word embedding vector.\n",
    "    - n_components: The number of top principal components to remove.\n",
    "\n",
    "    Returns:\n",
    "    - A DataFrame with processed embeddings, maintaining the same shape as the input.\n",
    "    \"\"\"\n",
    "    # Flatten the DataFrame to a 2D numpy array where each row is an embedding\n",
    "    embeddings_array = np.vstack(word_embeddings_df.values.flatten())\n",
    "    \n",
    "    # Calculate the mean vector\n",
    "    mean_vector = np.mean(embeddings_array, axis=0)\n",
    "    \n",
    "    # Center the embeddings by subtracting the mean vector\n",
    "    centered_embeddings = embeddings_array - mean_vector\n",
    "    \n",
    "    # Apply PCA to the entire dataset\n",
    "    pca = PCA(n_components=n_components)\n",
    "    pca.fit(centered_embeddings)\n",
    "\n",
    "    # Remove top principal components from each embedding\n",
    "    top_components = pca.components_\n",
    "    reduced_embeddings = centered_embeddings - np.dot(np.dot(centered_embeddings, top_components.T), top_components)\n",
    "    \n",
    "    # Reshape the reduced embeddings back to the original DataFrame structure\n",
    "    reshaped_embeddings = reduced_embeddings.reshape(word_embeddings_df.shape[0], word_embeddings_df.shape[1], -1)\n",
    "    \n",
    "    # Convert back to DataFrame with the same structure\n",
    "    processed_df = pd.DataFrame({\n",
    "        col: list(reshaped_embeddings[:, i, :]) for i, col in enumerate(word_embeddings_df.columns)\n",
    "    }, index=word_embeddings_df.index)\n",
    "    \n",
    "    return processed_df"
   ]
  },
  {
   "cell_type": "code",
   "execution_count": 30,
   "metadata": {},
   "outputs": [],
   "source": [
    "def plot_explained_variance(word_embeddings_df, df_name):\n",
    "    \"\"\"\n",
    "    Plot the explained variance for each principal component.\n",
    "\n",
    "    Parameters:\n",
    "    - word_embeddings_df: A DataFrame where each cell contains a word embedding vector.\n",
    "    - n_components: Number of principal components to consider. If None, all components are used.\n",
    "    \"\"\"\n",
    "    # Flatten the DataFrame to a 2D numpy array where each row is an embedding\n",
    "    all_embeddings = np.vstack(word_embeddings_df.values.flatten())\n",
    "\n",
    "    # check what is the best n components\n",
    "    pca = PCA(n_components=50)\n",
    "    pca.fit(all_embeddings)\n",
    "    \n",
    "    var = pca.explained_variance_ratio_\n",
    "    plt.figure(figsize=(15, 8))\n",
    "    plt.bar(list(range(var.shape[0])),var)\n",
    "    feature = range(pca.n_components_)\n",
    "    plt.title(df_name)\n",
    "    plt.xlabel('PCA components')\n",
    "    plt.ylabel('variance %')\n",
    "    plt.xticks(feature)\n",
    "    plt.show()"
   ]
  },
  {
   "cell_type": "markdown",
   "metadata": {},
   "source": [
    "By examining how the principle components explain variance, we can decide how many top components to remove from our embeddings. This will make the remaining components more discriminative. "
   ]
  },
  {
   "cell_type": "code",
   "execution_count": 33,
   "metadata": {},
   "outputs": [
    {
     "data": {
      "image/png": "[encoded data removed]",
      "text/plain": [
       "<Figure size 1500x800 with 1 Axes>"
      ]
     },
     "metadata": {},
     "output_type": "display_data"
    },
    {
     "data": {
      "image/png": "[encoded data removed]",
      "text/plain": [
       "<Figure size 1500x800 with 1 Axes>"
      ]
     },
     "metadata": {},
     "output_type": "display_data"
    },
    {
     "data": {
      "image/png": "[encoded data removed]",
      "text/plain": [
       "<Figure size 1500x800 with 1 Axes>"
      ]
     },
     "metadata": {},
     "output_type": "display_data"
    }
   ],
   "source": [
    "reduced_word2vec_df = plot_explained_variance(word2vec_df, 'word2vec')\n",
    "reduced_fasttext_df = plot_explained_variance(fasttext_df, 'fasttext')\n",
    "reduced_glove_df = plot_explained_variance(glove_df, 'glove')"
   ]
  },
  {
   "cell_type": "markdown",
   "metadata": {},
   "source": [
    "Something else to try is PPA -> PCA -> PPA                \n",
    "Source: https://lld-workshop.github.io/2017/papers/LLD_2017_paper_34.pdf "
   ]
  },
  {
   "cell_type": "code",
   "execution_count": 48,
   "metadata": {},
   "outputs": [],
   "source": [
    "# Post-Processing Algorithm (PPA). Remove Principle components \n",
    "reduced_word2vec_df = ppa(word2vec_df, 1) # remove the ideal number principle components\n",
    "reduced_fasttext_df = ppa(fasttext_df, 0) # remove the ideal number principle components\n",
    "reduced_glove_df = ppa(glove_df, 2) # remove the ideal number principle components"
   ]
  },
  {
   "cell_type": "markdown",
   "metadata": {},
   "source": [
    "**Word2Vec**"
   ]
  },
  {
   "cell_type": "code",
   "execution_count": 49,
   "metadata": {},
   "outputs": [],
   "source": [
    "df_with_clusters_word2vec_ppa = add_clusters_to_dataframe(reduced_word2vec_df  , work_df)"
   ]
  },
  {
   "cell_type": "code",
   "execution_count": 50,
   "metadata": {},
   "outputs": [],
   "source": [
    "df_with_kmeans_constrained_word2vec_ppa = kmeans_constrained(reduced_word2vec_df  , work_df)"
   ]
  },
  {
   "cell_type": "markdown",
   "metadata": {},
   "source": [
    "**Fasttext**"
   ]
  },
  {
   "cell_type": "code",
   "execution_count": 51,
   "metadata": {},
   "outputs": [],
   "source": [
    "df_with_clusters_fasttext_ppa = add_clusters_to_dataframe(reduced_fasttext_df  , work_df)"
   ]
  },
  {
   "cell_type": "code",
   "execution_count": 52,
   "metadata": {},
   "outputs": [],
   "source": [
    "df_with_kmeans_constrained_fasttext_ppa = kmeans_constrained(reduced_fasttext_df  , work_df)"
   ]
  },
  {
   "cell_type": "markdown",
   "metadata": {},
   "source": [
    "**GloVe**"
   ]
  },
  {
   "cell_type": "code",
   "execution_count": 53,
   "metadata": {},
   "outputs": [],
   "source": [
    "# Initialize an empty DataFrame to store all clusters\n",
    "df_with_clusters_glove_ppa = add_clusters_to_dataframe(reduced_glove_df  , work_df)"
   ]
  },
  {
   "cell_type": "code",
   "execution_count": 54,
   "metadata": {},
   "outputs": [],
   "source": [
    "df_with_kmeans_constrained_glove_ppa = kmeans_constrained(reduced_glove_df  , work_df)"
   ]
  },
  {
   "cell_type": "markdown",
   "metadata": {},
   "source": [
    "# Evaluation"
   ]
  },
  {
   "cell_type": "code",
   "execution_count": 47,
   "metadata": {},
   "outputs": [],
   "source": [
    "evaluations = {}"
   ]
  },
  {
   "cell_type": "code",
   "execution_count": 42,
   "metadata": {},
   "outputs": [],
   "source": [
    "from sklearn.metrics import jaccard_score"
   ]
  },
  {
   "cell_type": "code",
   "execution_count": 43,
   "metadata": {},
   "outputs": [],
   "source": [
    "def calculate_net_jaccard_similarity(evaluation_df, df_with_clusters):\n",
    "    \"\"\"\n",
    "    Calculate the net Jaccard similarity metric between two DataFrames.\n",
    "\n",
    "    Parameters:\n",
    "    - work_df: DataFrame containing predefined groups of words.\n",
    "    - df_with_clusters: DataFrame containing clustered groups of words.\n",
    "\n",
    "    Returns:\n",
    "    - net_metric: The average Jaccard similarity across all comparisons.\n",
    "    \"\"\"\n",
    "    # Ensure both DataFrames have the same number of rows\n",
    "    assert len(evaluation_df) == len(df_with_clusters), \"DataFrames must have the same number of rows.\"\n",
    "\n",
    "    # Initialize variables for net metric\n",
    "    total_similarity = 0\n",
    "    comparison_count = 0\n",
    "\n",
    "    # Compare each row in both DataFrames\n",
    "    for index in range(len(evaluation_df)):\n",
    "       #print(f\"Row {index + 1}:\")\n",
    "        used_clusters = set()  # Track used clusters\n",
    "        for predefined_idx in range(4):\n",
    "            predefined_group = evaluation_df.iloc[index, predefined_idx]\n",
    "            \n",
    "            # Find the best matching cluster that hasn't been used yet\n",
    "            best_similarity = 0\n",
    "            best_cluster_idx = -1\n",
    "            for cluster_idx in range(4):\n",
    "                if cluster_idx in used_clusters:\n",
    "                    continue  # Skip already used clusters\n",
    "                \n",
    "                clustered_words = df_with_clusters.iloc[index, cluster_idx]\n",
    "                # Calculate Jaccard similarity with zero_division parameter\n",
    "                similarity = jaccard_score(\n",
    "                    [1 if word in clustered_words else 0 for word in predefined_group],\n",
    "                    [1 if word in predefined_group else 0 for word in clustered_words],\n",
    "                    average='binary',\n",
    "                    zero_division=0  # Set zero_division to handle empty comparisons\n",
    "                )\n",
    "                \n",
    "                if similarity > best_similarity:\n",
    "                    best_similarity = similarity\n",
    "                    best_cluster_idx = cluster_idx\n",
    "            \n",
    "            # Mark the best cluster as used\n",
    "            used_clusters.add(best_cluster_idx)\n",
    "            \n",
    "            # Print the best matching cluster\n",
    "            best_cluster_words = df_with_clusters.iloc[index, best_cluster_idx]\n",
    "            # print(f\"  Predefined Group {predefined_idx + 1}:\")\n",
    "            # print(f\"    Predefined Words: {predefined_group}\")\n",
    "            # print(f\"    Best Matching Cluster: {best_cluster_idx + 1}\")\n",
    "            # print(f\"    Clustered Words: {best_cluster_words}\")\n",
    "            # print(f\"    Jaccard Similarity: {best_similarity:.2f}\\n\")\n",
    "            \n",
    "            # Accumulate similarity for net metric\n",
    "            total_similarity += best_similarity\n",
    "            comparison_count += 1\n",
    "\n",
    "    # Calculate and return the net metric\n",
    "    net_metric = total_similarity / comparison_count if comparison_count > 0 else 0\n",
    "    print(f\"Net Jaccard Similarity Metric: {net_metric:.4f}\")\n",
    "    return net_metric"
   ]
  },
  {
   "cell_type": "markdown",
   "metadata": {},
   "source": [
    "This is for ideal PPA Components Dropped, which we investigate further below"
   ]
  },
  {
   "cell_type": "code",
   "execution_count": 55,
   "metadata": {},
   "outputs": [
    {
     "name": "stdout",
     "output_type": "stream",
     "text": [
      "Net Jaccard Similarity Metric: 0.6400\n",
      "Net Jaccard Similarity Metric: 0.6714\n",
      "Net Jaccard Similarity Metric: 0.6521\n",
      "Net Jaccard Similarity Metric: 0.6594\n",
      "Net Jaccard Similarity Metric: 0.6922\n",
      "Net Jaccard Similarity Metric: 0.6583\n",
      "Net Jaccard Similarity Metric: 0.6574\n",
      "Net Jaccard Similarity Metric: 0.6798\n",
      "Net Jaccard Similarity Metric: 0.6725\n",
      "Net Jaccard Similarity Metric: 0.6583\n",
      "Net Jaccard Similarity Metric: 0.6766\n",
      "Net Jaccard Similarity Metric: 0.6539\n"
     ]
    }
   ],
   "source": [
    "# Evaluate Clustering maximize single clusters \n",
    "evaluations['clusters_word2vec'] = calculate_net_jaccard_similarity(evaluation_df, df_with_clusters_word2vec)\n",
    "evaluations['clusters_fasttext'] = calculate_net_jaccard_similarity(evaluation_df, df_with_clusters_fasttext)\n",
    "evaluations['clusters_glove'] = calculate_net_jaccard_similarity(evaluation_df, df_with_clusters_glove)\n",
    "\n",
    "# Constrained KMeans\n",
    "evaluations['KMeans_constrained_word2vec'] = calculate_net_jaccard_similarity(evaluation_df, df_with_kmeans_constrained_word2vec)\n",
    "evaluations['KMeans_constrained_fasttext'] = calculate_net_jaccard_similarity(evaluation_df, df_with_kmeans_constrained_fasttext)\n",
    "evaluations['KMeans_constrained_glove'] = calculate_net_jaccard_similarity(evaluation_df, df_with_kmeans_constrained_glove)\n",
    "\n",
    "# Evaluate Clustering maximize single clusters with PPA\n",
    "evaluations['clusters_word2vec_ppa'] = calculate_net_jaccard_similarity(evaluation_df, df_with_clusters_word2vec_ppa)\n",
    "evaluations['clusters_fasttext_ppa'] = calculate_net_jaccard_similarity(evaluation_df, df_with_clusters_fasttext_ppa)\n",
    "evaluations['clusters_glove_ppa'] = calculate_net_jaccard_similarity(evaluation_df, df_with_clusters_glove_ppa)\n",
    "\n",
    "# Constrained KMeans with PPA\n",
    "evaluations['KMeans_constrained_word2vec_ppa'] = calculate_net_jaccard_similarity(evaluation_df, df_with_kmeans_constrained_word2vec_ppa)\n",
    "evaluations['KMeans_constrained_fasttext_ppa'] = calculate_net_jaccard_similarity(evaluation_df, df_with_kmeans_constrained_fasttext_ppa)\n",
    "evaluations['KMeans_constrained_glove_ppa'] = calculate_net_jaccard_similarity(evaluation_df, df_with_kmeans_constrained_glove_ppa)"
   ]
  },
  {
   "cell_type": "code",
   "execution_count": 56,
   "metadata": {},
   "outputs": [
    {
     "data": {
      "text/html": [
       "<div>\n",
       "<style scoped>\n",
       "    .dataframe tbody tr th:only-of-type {\n",
       "        vertical-align: middle;\n",
       "    }\n",
       "\n",
       "    .dataframe tbody tr th {\n",
       "        vertical-align: top;\n",
       "    }\n",
       "\n",
       "    .dataframe thead th {\n",
       "        text-align: right;\n",
       "    }\n",
       "</style>\n",
       "<table border=\"1\" class=\"dataframe\">\n",
       "  <thead>\n",
       "    <tr style=\"text-align: right;\">\n",
       "      <th></th>\n",
       "      <th>0</th>\n",
       "    </tr>\n",
       "  </thead>\n",
       "  <tbody>\n",
       "    <tr>\n",
       "      <th>clusters_word2vec</th>\n",
       "      <td>0.639969</td>\n",
       "    </tr>\n",
       "    <tr>\n",
       "      <th>clusters_fasttext</th>\n",
       "      <td>0.671434</td>\n",
       "    </tr>\n",
       "    <tr>\n",
       "      <th>clusters_glove</th>\n",
       "      <td>0.652079</td>\n",
       "    </tr>\n",
       "    <tr>\n",
       "      <th>KMeans_constrained_word2vec</th>\n",
       "      <td>0.659420</td>\n",
       "    </tr>\n",
       "    <tr>\n",
       "      <th>KMeans_constrained_fasttext</th>\n",
       "      <td>0.692220</td>\n",
       "    </tr>\n",
       "    <tr>\n",
       "      <th>KMeans_constrained_glove</th>\n",
       "      <td>0.658276</td>\n",
       "    </tr>\n",
       "    <tr>\n",
       "      <th>clusters_word2vec_ppa</th>\n",
       "      <td>0.657418</td>\n",
       "    </tr>\n",
       "    <tr>\n",
       "      <th>clusters_fasttext_ppa</th>\n",
       "      <td>0.679825</td>\n",
       "    </tr>\n",
       "    <tr>\n",
       "      <th>clusters_glove_ppa</th>\n",
       "      <td>0.672483</td>\n",
       "    </tr>\n",
       "    <tr>\n",
       "      <th>KMeans_constrained_word2vec_ppa</th>\n",
       "      <td>0.658276</td>\n",
       "    </tr>\n",
       "    <tr>\n",
       "      <th>KMeans_constrained_fasttext_ppa</th>\n",
       "      <td>0.676583</td>\n",
       "    </tr>\n",
       "    <tr>\n",
       "      <th>KMeans_constrained_glove_ppa</th>\n",
       "      <td>0.653890</td>\n",
       "    </tr>\n",
       "  </tbody>\n",
       "</table>\n",
       "</div>"
      ],
      "text/plain": [
       "                                        0\n",
       "clusters_word2vec                0.639969\n",
       "clusters_fasttext                0.671434\n",
       "clusters_glove                   0.652079\n",
       "KMeans_constrained_word2vec      0.659420\n",
       "KMeans_constrained_fasttext      0.692220\n",
       "KMeans_constrained_glove         0.658276\n",
       "clusters_word2vec_ppa            0.657418\n",
       "clusters_fasttext_ppa            0.679825\n",
       "clusters_glove_ppa               0.672483\n",
       "KMeans_constrained_word2vec_ppa  0.658276\n",
       "KMeans_constrained_fasttext_ppa  0.676583\n",
       "KMeans_constrained_glove_ppa     0.653890"
      ]
     },
     "execution_count": 56,
     "metadata": {},
     "output_type": "execute_result"
    }
   ],
   "source": [
    "results_df = pd.DataFrame.from_dict(evaluations , orient = 'index')\n",
    "results_df"
   ]
  },
  {
   "cell_type": "markdown",
   "metadata": {},
   "source": [
    "**Our best performer is kmeans constrained fasttext trained on the common crawl!!!**"
   ]
  },
  {
   "cell_type": "markdown",
   "metadata": {
    "jp-MarkdownHeadingCollapsed": true
   },
   "source": [
    "### Let's try different numbers of components to drop (Optimize PPA)"
   ]
  },
  {
   "cell_type": "code",
   "execution_count": null,
   "metadata": {},
   "outputs": [],
   "source": [
    "for i in range(15):\n",
    "    reduced_word2vec_df = ppa(word2vec_df, i) # remove the first principle component\n",
    "    reduced_fasttext_df = ppa(fasttext_df, i) # remove the first principle component\n",
    "    reduced_glove_df = ppa(glove_df, i) # remove the first principle component\n",
    "    \n",
    "    # Clustering By Single Group Priority\n",
    "    df_with_clusters_word2vec_ppa = add_clusters_to_dataframe(reduced_word2vec_df  , work_df)\n",
    "    df_with_clusters_fasttext_ppa = add_clusters_to_dataframe(reduced_fasttext_df  , work_df)\n",
    "    df_with_clusters_glove_ppa = add_clusters_to_dataframe(reduced_glove_df  , work_df)\n",
    "\n",
    "    # KMeans Constrained\n",
    "    df_kmeans_constrained_word2vec_ppa = kmeans_constrained(reduced_word2vec_df  , work_df)\n",
    "    df_kmeans_constrained_fasttext_ppa = kmeans_constrained(reduced_fasttext_df  , work_df)\n",
    "    df_kmeans_constrained_glove_ppa = kmeans_constrained(reduced_glove_df  , work_df)\n",
    "\n",
    "    evaluations[f'clusters_word2vec_ppa{i}'] = calculate_net_jaccard_similarity(evaluation_df, df_with_clusters_word2vec_ppa)\n",
    "    evaluations[f'clusters_fasttext_ppa{i}'] = calculate_net_jaccard_similarity(evaluation_df, df_with_clusters_fasttext_ppa)\n",
    "    evaluations[f'clusters_glove_ppa{i}'] = calculate_net_jaccard_similarity(evaluation_df, df_with_clusters_glove_ppa)\n",
    "\n",
    "    evaluations[f'kmeans_constrained_word2vec_ppa{i}'] = calculate_net_jaccard_similarity(evaluation_df, df_kmeans_constrained_word2vec_ppa)\n",
    "    evaluations[f'kmeans_constrained_fasttext_ppa{i}'] = calculate_net_jaccard_similarity(evaluation_df, df_kmeans_constrained_fasttext_ppa)\n",
    "    evaluations[f'kmeans_constrained_glove_ppa{i}'] = calculate_net_jaccard_similarity(evaluation_df, df_kmeans_constrained_glove_ppa)\n",
    "\n",
    "results_df = pd.DataFrame.from_dict(evaluations , orient = 'index')\n",
    "results_df"
   ]
  },
  {
   "cell_type": "code",
   "execution_count": 63,
   "metadata": {},
   "outputs": [
    {
     "data": {
      "text/html": [
       "<div>\n",
       "<style scoped>\n",
       "    .dataframe tbody tr th:only-of-type {\n",
       "        vertical-align: middle;\n",
       "    }\n",
       "\n",
       "    .dataframe tbody tr th {\n",
       "        vertical-align: top;\n",
       "    }\n",
       "\n",
       "    .dataframe thead th {\n",
       "        text-align: right;\n",
       "    }\n",
       "</style>\n",
       "<table border=\"1\" class=\"dataframe\">\n",
       "  <thead>\n",
       "    <tr style=\"text-align: right;\">\n",
       "      <th></th>\n",
       "      <th>0</th>\n",
       "    </tr>\n",
       "  </thead>\n",
       "  <tbody>\n",
       "    <tr>\n",
       "      <th>clusters_word2vec</th>\n",
       "      <td>0.639969</td>\n",
       "    </tr>\n",
       "    <tr>\n",
       "      <th>clusters_fasttext</th>\n",
       "      <td>0.671434</td>\n",
       "    </tr>\n",
       "    <tr>\n",
       "      <th>clusters_glove</th>\n",
       "      <td>0.652079</td>\n",
       "    </tr>\n",
       "    <tr>\n",
       "      <th>KMeans_constrained_word2vec</th>\n",
       "      <td>0.659420</td>\n",
       "    </tr>\n",
       "    <tr>\n",
       "      <th>KMeans_constrained_fasttext</th>\n",
       "      <td>0.692220</td>\n",
       "    </tr>\n",
       "    <tr>\n",
       "      <th>KMeans_constrained_glove</th>\n",
       "      <td>0.658276</td>\n",
       "    </tr>\n",
       "    <tr>\n",
       "      <th>clusters_word2vec_ppa</th>\n",
       "      <td>0.657418</td>\n",
       "    </tr>\n",
       "    <tr>\n",
       "      <th>clusters_fasttext_ppa</th>\n",
       "      <td>0.679825</td>\n",
       "    </tr>\n",
       "    <tr>\n",
       "      <th>clusters_glove_ppa</th>\n",
       "      <td>0.672483</td>\n",
       "    </tr>\n",
       "    <tr>\n",
       "      <th>KMeans_constrained_word2vec_ppa</th>\n",
       "      <td>0.658276</td>\n",
       "    </tr>\n",
       "    <tr>\n",
       "      <th>KMeans_constrained_fasttext_ppa</th>\n",
       "      <td>0.676583</td>\n",
       "    </tr>\n",
       "    <tr>\n",
       "      <th>KMeans_constrained_glove_ppa</th>\n",
       "      <td>0.653890</td>\n",
       "    </tr>\n",
       "  </tbody>\n",
       "</table>\n",
       "</div>"
      ],
      "text/plain": [
       "                                        0\n",
       "clusters_word2vec                0.639969\n",
       "clusters_fasttext                0.671434\n",
       "clusters_glove                   0.652079\n",
       "KMeans_constrained_word2vec      0.659420\n",
       "KMeans_constrained_fasttext      0.692220\n",
       "KMeans_constrained_glove         0.658276\n",
       "clusters_word2vec_ppa            0.657418\n",
       "clusters_fasttext_ppa            0.679825\n",
       "clusters_glove_ppa               0.672483\n",
       "KMeans_constrained_word2vec_ppa  0.658276\n",
       "KMeans_constrained_fasttext_ppa  0.676583\n",
       "KMeans_constrained_glove_ppa     0.653890"
      ]
     },
     "execution_count": 63,
     "metadata": {},
     "output_type": "execute_result"
    }
   ],
   "source": [
    "# Set display options\n",
    "pd.set_option('display.max_rows', None)\n",
    "pd.set_option('display.max_columns', None)\n",
    "pd.set_option('display.max_colwidth', None)\n",
    "\n",
    "# Display the DataFrame\n",
    "results_df"
   ]
  },
  {
   "cell_type": "code",
   "execution_count": null,
   "metadata": {},
   "outputs": [],
   "source": [
    "# Optionally, reset the display options if desired\n",
    "pd.reset_option('display.max_rows')\n",
    "pd.reset_option('display.max_columns')\n",
    "pd.reset_option('display.max_colwidth')"
   ]
  },
  {
   "cell_type": "markdown",
   "metadata": {},
   "source": [
    "**Best Number of Components to Drop**\n",
    "\n",
    "*Word2Vec*\n",
    "\n",
    "Highest value: 0.656250\n",
    "\n",
    "Components Dropped: 1\n",
    "\n",
    "Source: clusters_word2vec_ppa1\n",
    "\n",
    "*FastText*\n",
    "\n",
    "Highest value: 0.685589\n",
    "\n",
    "Components Dropped: 2\n",
    "\n",
    "Source: clusters_fasttext_ppa2\n",
    "\n",
    "*Glove*\n",
    "\n",
    "Highest value: 0.673452\n",
    "\n",
    "Components Dropped: 2\n",
    "\n",
    "Source: clusters_glove_ppa2"
   ]
  },
  {
   "cell_type": "markdown",
   "metadata": {},
   "source": [
    "### Lets take a Closer look at the most recent connections using Fasttext with PPA 2"
   ]
  },
  {
   "cell_type": "code",
   "execution_count": 57,
   "metadata": {},
   "outputs": [
    {
     "data": {
      "text/plain": [
       "Cluster 1          [blues, country, folk, rock]\n",
       "Cluster 2      [brat, bun, mustard, sauerkraut]\n",
       "Cluster 3       [chair, soulmate, updo, wallet]\n",
       "Cluster 4    [mountain, tree, warrior, coconut]\n",
       "Name: 434, dtype: object"
      ]
     },
     "execution_count": 57,
     "metadata": {},
     "output_type": "execute_result"
    }
   ],
   "source": [
    "df_with_kmeans_constrained_fasttext.iloc[len(df_with_kmeans_constrained_fasttext)-3]"
   ]
  },
  {
   "cell_type": "code",
   "execution_count": 58,
   "metadata": {},
   "outputs": [
    {
     "data": {
      "text/plain": [
       "level_0         [blues, country, folk, rock]\n",
       "level_1     [brat, bun, mustard, sauerkraut]\n",
       "level_2     [chair, mountain, tree, warrior]\n",
       "level_3    [coconut, soulmate, updo, wallet]\n",
       "Name: 434, dtype: object"
      ]
     },
     "execution_count": 58,
     "metadata": {},
     "output_type": "execute_result"
    }
   ],
   "source": [
    "evaluation_df.iloc[len(evaluation_df)-3]"
   ]
  },
  {
   "cell_type": "markdown",
   "metadata": {},
   "source": [
    "Now let's try soft clustering the fasttext_df"
   ]
  },
  {
   "cell_type": "code",
   "execution_count": 61,
   "metadata": {},
   "outputs": [],
   "source": [
    "fuzzy_fasttext_ppa2 = fuzzy_cmeans(fasttext_df , work_df)"
   ]
  },
  {
   "cell_type": "code",
   "execution_count": 64,
   "metadata": {},
   "outputs": [
    {
     "data": {
      "text/plain": [
       "Cluster 1          [(folk, 0.93124411171614), (blues, 0.9067067792242076), (rock, 0.8063936312682269), (tree, 0.18493110726960293), (brat, 0.15132475436521545), (chair, 0.14488340551132914), (warrior, 0.09882460556068402), (country, 0.08882944155580683), (mountain, 0.08358941756082143), (wallet, 0.08059063805487099), (soulmate, 0.07980098487422971), (coconut, 0.07524011149306724), (mustard, 0.04763254751506531), (sauerkraut, 0.02998654770845277), (updo, 0.009645963219503778), (bun, 0.00573706448427974)]\n",
       "Cluster 2               [(mountain, 0.7812604792840567), (country, 0.7478468138641734), (warrior, 0.734345274999021), (soulmate, 0.6255498661747833), (wallet, 0.42940479966268474), (chair, 0.42139240766473307), (tree, 0.4191166809601328), (brat, 0.22341372513853694), (coconut, 0.17082604406758095), (mustard, 0.10553850656624603), (sauerkraut, 0.08772392779363945), (rock, 0.084720508514542), (blues, 0.044453579904381514), (folk, 0.03666516675594), (updo, 0.00957055283545959), (bun, 0.005981378985378416)]\n",
       "Cluster 3              [(sauerkraut, 0.858385755886684), (mustard, 0.8214597615232002), (coconut, 0.6949445225927636), (wallet, 0.42243756884741096), (brat, 0.33313456756203697), (tree, 0.2878081050756731), (soulmate, 0.2423177292355688), (chair, 0.2394465163597312), (country, 0.14682014906734395), (warrior, 0.14197001723119232), (mountain, 0.11659249317425512), (rock, 0.05599180954831442), (blues, 0.03602836172666683), (folk, 0.02338802107477233), (updo, 0.0112977610143002), (bun, 0.01052197747746213)]\n",
       "Cluster 4    [(bun, 0.9777595790528796), (updo, 0.9694857229307365), (brat, 0.2921269529342106), (chair, 0.19427767046420671), (tree, 0.10814410669459106), (wallet, 0.06756699343503351), (coconut, 0.058989321846588165), (rock, 0.0528940506689166), (soulmate, 0.052331419715418215), (mustard, 0.025369184395488426), (warrior, 0.024860102209102664), (sauerkraut, 0.023903768611223772), (mountain, 0.0185576099808669), (country, 0.01650359551267581), (blues, 0.012811279144744104), (folk, 0.008702700453147801)]\n",
       "Name: 434, dtype: object"
      ]
     },
     "execution_count": 64,
     "metadata": {},
     "output_type": "execute_result"
    }
   ],
   "source": [
    "fuzzy_fasttext_ppa2.iloc[len(fuzzy_fasttext_ppa2)-3]"
   ]
  },
  {
   "cell_type": "markdown",
   "metadata": {},
   "source": [
    "# Future Plans"
   ]
  },
  {
   "cell_type": "markdown",
   "metadata": {},
   "source": [
    "- Different Post Processing Algorithms on the Word Embeddings (i.e. PPA -> PCA -> PPA)\n",
    "- Different Clustering Techniques. Maybe use something similar to the greedy cluster similarity maximizer and kmeans constrained we did for the first two groups, then for the two harder groups, we can try a more brute force approach.\n",
    "- Train word embeddings on corpus more in tune with NYT connections game"
   ]
  },
  {
   "cell_type": "markdown",
   "metadata": {
    "jp-MarkdownHeadingCollapsed": true
   },
   "source": [
    "# Sanity Check (Ignore)"
   ]
  },
  {
   "cell_type": "code",
   "execution_count": null,
   "metadata": {},
   "outputs": [],
   "source": [
    "# words = [\n",
    "#     \"blow\", \"draft\", \"gust\", \"puff\",\n",
    "#     \"crank\", \"reel\", \"turn\", \"wind\",\n",
    "#     \"bull\", \"crab\", \"lion\", \"ram\",\n",
    "#     \"cat\", \"grinch\", \"pop\", \"turtle\"\n",
    "# ]\n",
    "words = [\n",
    "    \"apple\", \"gun\", \"dog\", \"star\",\n",
    "    \"prune\", \"knife\", \"cat\", \"planet\",\n",
    "    \"orange\", \"sword\", \"bird\", \"moon\",\n",
    "    \"pear\", \"bomb\", \"fish\", \"sun\"\n",
    "]\n",
    "\n",
    "# Create a DataFrame from the list and transpose it\n",
    "words_df = pd.DataFrame(words, columns=['Word']).T\n",
    "\n",
    "# Shuffle the columns\n",
    "shuffled_columns = np.random.permutation(words_df.columns)\n",
    "shuffled_df = words_df[shuffled_columns]\n",
    "shuffled_df"
   ]
  },
  {
   "cell_type": "code",
   "execution_count": null,
   "metadata": {},
   "outputs": [],
   "source": [
    "word2vec_df, fasttext_df, glove_df, unrecognized_words_word2vec, unrecognized_words_fasttext, unrecognized_words_glove = get_embeddings(shuffled_df)"
   ]
  },
  {
   "cell_type": "code",
   "execution_count": null,
   "metadata": {},
   "outputs": [],
   "source": [
    "test_cluster = kmeans_constrained(word2vec_df , shuffled_df)\n",
    "test_cluster"
   ]
  },
  {
   "cell_type": "code",
   "execution_count": null,
   "metadata": {},
   "outputs": [],
   "source": [
    "test_cluster = fuzzy_cmeans(word2vec_df , shuffled_df)\n",
    "test_cluster['Cluster 1']"
   ]
  },
  {
   "cell_type": "code",
   "execution_count": null,
   "metadata": {},
   "outputs": [],
   "source": []
  }
 ],
 "metadata": {
  "colab": {
   "provenance": []
  },
  "kernelspec": {
   "display_name": "Python 3 (ipykernel)",
   "language": "python",
   "name": "python3"
  },
  "language_info": {
   "codemirror_mode": {
    "name": "ipython",
    "version": 3
   },
   "file_extension": ".py",
   "mimetype": "text/x-python",
   "name": "python",
   "nbconvert_exporter": "python",
   "pygments_lexer": "ipython3",
   "version": "3.11.4"
  }
 },
 "nbformat": 4,
 "nbformat_minor": 4
}
